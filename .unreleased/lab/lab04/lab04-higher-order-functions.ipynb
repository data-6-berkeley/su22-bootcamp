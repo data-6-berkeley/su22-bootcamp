{
 "cells": [
  {
   "cell_type": "raw",
   "id": "57e231e7",
   "metadata": {},
   "source": [
    "# ASSIGNMENT CONFIG\n",
    "generate: true\n",
    "export_cell:\n",
    "    run_tests: true\n",
    "    pdf: false\n",
    "seed:\n",
    "    variable: rng_seed\n",
    "    autograder_value: 42\n",
    "    student_value: 90"
   ]
  },
  {
   "cell_type": "code",
   "execution_count": 10,
   "id": "9e4aaf5a",
   "metadata": {},
   "outputs": [],
   "source": [
    "# run this cell\n",
    "import numpy as np"
   ]
  },
  {
   "cell_type": "markdown",
   "id": "1f946fbc",
   "metadata": {},
   "source": [
    "# Lab 04: Higher Order Functions\n",
    "\n",
    "Remember to run the Otter cell *and* the NumPy cell at the top of this page!"
   ]
  },
  {
   "cell_type": "markdown",
   "id": "b917be15",
   "metadata": {},
   "source": [
    "\n",
    "<br/><br/>\n",
    "<hr style=\"border: 5px solid #003262;\" />\n",
    "<hr style=\"border: 1px solid #fdb515;\" />\n",
    "\n",
    "# Tutorial\n",
    "\n",
    "From [CS 88 Lab 03](https://cs88-website.github.io/sp22/lab/lab03/).\n",
    "\n",
    "\n",
    "TODO"
   ]
  },
  {
   "cell_type": "markdown",
   "id": "e8daf681",
   "metadata": {},
   "source": [
    "\n",
    "<br/><br/>\n",
    "<hr style=\"border: 5px solid #003262;\" />\n",
    "<hr style=\"border: 1px solid #fdb515;\" />\n",
    "\n",
    "# Discussion Questions: WWPD?\n",
    "\n",
    "From [CS 88 Discussion 03](https://cs88-website.github.io/sp22/disc/disc03.pdf)."
   ]
  },
  {
   "cell_type": "markdown",
   "id": "7030daa5",
   "metadata": {},
   "source": [
    "---\n",
    "\n",
    "# Question 1: Functions as Parameters\n",
    "\n",
    "One way a higher order function can exploit other functions is by taking functions as\n",
    "input. Consider this higher order function called `negate`."
   ]
  },
  {
   "cell_type": "code",
   "execution_count": null,
   "id": "0abf1bbc",
   "metadata": {},
   "outputs": [],
   "source": [
    "# run this cell\n",
    "def negate(f, x):\n",
    "    return -f(x)"
   ]
  },
  {
   "cell_type": "markdown",
   "id": "5f72fdc8",
   "metadata": {},
   "source": [
    "\n",
    "`negate` takes in a function `f` and a number `x`. It doesn’t care what exactly `f` does, as long\n",
    "as `f` takes in a number and returns a number. Its job is simple: call `f` on `x` and return the\n",
    "negation of that value.\n",
    "\n",
    "Here are some possible functions that can be passed through as `f`:"
   ]
  },
  {
   "cell_type": "code",
   "execution_count": 1,
   "id": "86873a06",
   "metadata": {},
   "outputs": [],
   "source": [
    "# run this cell\n",
    "def square(n):\n",
    "    return n * n\n",
    "def double(n):\n",
    "    return 2 * n"
   ]
  },
  {
   "cell_type": "markdown",
   "id": "4eb9a912",
   "metadata": {},
   "source": [
    "What will the following Python statements output?"
   ]
  },
  {
   "cell_type": "code",
   "execution_count": 2,
   "id": "1df1e2b5",
   "metadata": {},
   "outputs": [
    {
     "ename": "NameError",
     "evalue": "name 'negate' is not defined",
     "output_type": "error",
     "traceback": [
      "\u001b[0;31m---------------------------------------------------------------------------\u001b[0m",
      "\u001b[0;31mNameError\u001b[0m                                 Traceback (most recent call last)",
      "Input \u001b[0;32mIn [2]\u001b[0m, in \u001b[0;36m<module>\u001b[0;34m\u001b[0m\n\u001b[0;32m----> 1\u001b[0m \u001b[43mnegate\u001b[49m(square, \u001b[38;5;241m5\u001b[39m)\n",
      "\u001b[0;31mNameError\u001b[0m: name 'negate' is not defined"
     ]
    }
   ],
   "source": [
    "negate(square, 5)"
   ]
  },
  {
   "cell_type": "code",
   "execution_count": null,
   "id": "a786d14b",
   "metadata": {},
   "outputs": [],
   "source": [
    "negate(double, -19)"
   ]
  },
  {
   "cell_type": "code",
   "execution_count": null,
   "id": "f4f1e035",
   "metadata": {},
   "outputs": [],
   "source": [
    "negate(double, negate(square, -4))"
   ]
  },
  {
   "cell_type": "code",
   "execution_count": 12,
   "id": "93769db7",
   "metadata": {},
   "outputs": [
    {
     "name": "stdout",
     "output_type": "stream",
     "text": [
      "2\n",
      "1\n",
      "0\n",
      "-1\n"
     ]
    }
   ],
   "source": [
    "n = 3\n",
    "while n >= 0:\n",
    "    n -= 1\n",
    "    print(n)"
   ]
  },
  {
   "cell_type": "markdown",
   "id": "9152a49c",
   "metadata": {},
   "source": [
    "<br/><br/>\n",
    "\n",
    "---\n",
    "\n",
    "# Question 2: Functions as Return Values\n",
    "\n",
    "Often, we will need to write a function that returns another function. One way to do this\n",
    "is to define a function inside of a function:\n",
    "\n",
    "    def outer(x):\n",
    "        def inner(y):\n",
    "            ...\n",
    "        return inner\n",
    "    \n",
    "The return value of `outer` is the function `inner`. This is a case of a function returning\n",
    "a function. In this example, `inner` is defined inside of `outer`. Although this is a common pattern, we can also define inner outside of `outer` and still use the same return\n",
    "statement.\n",
    "\n",
    "    def inner(y):\n",
    "        ...\n",
    "    def outer(x):\n",
    "        return inner\n",
    "        \n",
    "\n",
    "Use the below definition of `outer` to fill in what Python would print when the following lines are evaluated."
   ]
  },
  {
   "cell_type": "code",
   "execution_count": 5,
   "id": "3f05ed3d",
   "metadata": {},
   "outputs": [],
   "source": [
    "def outer(n):\n",
    "    def inner(m):\n",
    "        return n - m\n",
    "    return inner"
   ]
  },
  {
   "cell_type": "code",
   "execution_count": 6,
   "id": "aa517756",
   "metadata": {},
   "outputs": [
    {
     "data": {
      "text/plain": [
       "<function __main__.outer.<locals>.inner(m)>"
      ]
     },
     "execution_count": 6,
     "metadata": {},
     "output_type": "execute_result"
    }
   ],
   "source": [
    "outer(61)"
   ]
  },
  {
   "cell_type": "code",
   "execution_count": 7,
   "id": "81405c75",
   "metadata": {},
   "outputs": [],
   "source": [
    "f = outer(10)"
   ]
  },
  {
   "cell_type": "code",
   "execution_count": 8,
   "id": "5648cd36",
   "metadata": {},
   "outputs": [
    {
     "data": {
      "text/plain": [
       "6"
      ]
     },
     "execution_count": 8,
     "metadata": {},
     "output_type": "execute_result"
    }
   ],
   "source": [
    "f(4)"
   ]
  },
  {
   "cell_type": "code",
   "execution_count": 9,
   "id": "98f6d273",
   "metadata": {
    "scrolled": true
   },
   "outputs": [
    {
     "data": {
      "text/plain": [
       "1"
      ]
     },
     "execution_count": 9,
     "metadata": {},
     "output_type": "execute_result"
    }
   ],
   "source": [
    "outer(5)(4)"
   ]
  },
  {
   "cell_type": "markdown",
   "id": "284f39e9",
   "metadata": {},
   "source": [
    "# Question 3: WWPD?\n",
    "\n",
    "From [CS 61A Lab 02](https://cs61a.org/lab/lab02/)."
   ]
  },
  {
   "cell_type": "code",
   "execution_count": 15,
   "id": "64313130",
   "metadata": {},
   "outputs": [
    {
     "name": "stdout",
     "output_type": "stream",
     "text": [
      "beets\n"
     ]
    }
   ],
   "source": [
    "def cake():\n",
    "    print('beets')\n",
    "    def pie():\n",
    "        print('sweets')\n",
    "        return 'cake'\n",
    "    return pie"
   ]
  },
  {
   "cell_type": "code",
   "execution_count": null,
   "id": "e07d3e60",
   "metadata": {},
   "outputs": [],
   "source": [
    "chocolate = cake()"
   ]
  },
  {
   "cell_type": "code",
   "execution_count": null,
   "id": "093764f7",
   "metadata": {},
   "outputs": [],
   "source": [
    "chocolate"
   ]
  },
  {
   "cell_type": "code",
   "execution_count": null,
   "id": "95de7e57",
   "metadata": {},
   "outputs": [],
   "source": [
    "chocolate()"
   ]
  },
  {
   "cell_type": "code",
   "execution_count": 16,
   "id": "24816783",
   "metadata": {},
   "outputs": [
    {
     "name": "stdout",
     "output_type": "stream",
     "text": [
      "sweets\n"
     ]
    }
   ],
   "source": [
    "more_chocolate = chocolate()\n",
    "more_cake = cake"
   ]
  },
  {
   "cell_type": "code",
   "execution_count": null,
   "id": "706a215e",
   "metadata": {},
   "outputs": [],
   "source": [
    "more_chocolate"
   ]
  },
  {
   "cell_type": "code",
   "execution_count": null,
   "id": "9ce3d677",
   "metadata": {},
   "outputs": [],
   "source": [
    "def snake(x, y):\n",
    "    if cake == more_cake:\n",
    "        return chocolate\n",
    "    else:\n",
    "        return x + y"
   ]
  },
  {
   "cell_type": "code",
   "execution_count": null,
   "id": "a8ee8f0f",
   "metadata": {},
   "outputs": [],
   "source": [
    "snake(10, 20)"
   ]
  },
  {
   "cell_type": "code",
   "execution_count": null,
   "id": "745479be",
   "metadata": {},
   "outputs": [],
   "source": [
    "snake(10, 20)()"
   ]
  },
  {
   "cell_type": "code",
   "execution_count": null,
   "id": "d5de85a2",
   "metadata": {},
   "outputs": [],
   "source": [
    "cake = 'cake'"
   ]
  },
  {
   "cell_type": "code",
   "execution_count": null,
   "id": "fa1c163b",
   "metadata": {},
   "outputs": [],
   "source": [
    "snake(10, 20)"
   ]
  },
  {
   "cell_type": "markdown",
   "id": "898fad39",
   "metadata": {},
   "source": [
    "\n",
    "<br/><br/>\n",
    "<hr style=\"border: 5px solid #003262;\" />\n",
    "<hr style=\"border: 1px solid #fdb515;\" />\n",
    "\n",
    "# Discussion Questions: Code Writing\n",
    "\n",
    "From [CS 88 Discussion 03](https://cs88-website.github.io/sp22/disc/disc03.pdf)."
   ]
  },
  {
   "cell_type": "markdown",
   "id": "5e1b8f2f",
   "metadata": {},
   "source": [
    "<br/><br/>\n",
    "\n",
    "---\n",
    "\n",
    "## Question 2\n",
    "\n",
    "### Question 2a\n",
    "Implement a function `keep_ints`, which takes in a function `cond` and a number `n`,\n",
    "and only prints a number from `1` to `n` if calling `cond` on that number returns `True`:"
   ]
  },
  {
   "cell_type": "code",
   "execution_count": 4,
   "id": "228b0574",
   "metadata": {},
   "outputs": [],
   "source": [
    "def keep_ints(cond, n):\n",
    "    \"\"\"Print out all integers 1..i..n where cond(i) is true\n",
    "    >>> def is_even(x):\n",
    "    ... # Even numbers have remainder 0 when divided by 2.\n",
    "    ... return x % 2 == 0\n",
    "    >>> keep_ints(is_even, 5)\n",
    "    2\n",
    "    4\n",
    "    \"\"\"\n",
    "    \"YOUR CODE HERE\""
   ]
  },
  {
   "cell_type": "markdown",
   "id": "5936f006",
   "metadata": {},
   "source": [
    "### Question 2b\n",
    "\n",
    "Implement a function `keep_ints_fn` like before, but now it takes in a number `n` and\n",
    "returns a function that has one parameter `cond`. The returned function prints out all\n",
    "numbers from 1..i..n where calling `cond(i)` returns True."
   ]
  },
  {
   "cell_type": "code",
   "execution_count": 11,
   "id": "fa22d64e",
   "metadata": {},
   "outputs": [],
   "source": [
    "def keep_ints_fn(n):\n",
    "    \"\"\"Returns a function which takes one parameter cond and\n",
    "    prints out all integers 1..i..n where calling cond(i)\n",
    "    returns True.\n",
    "    >>> def is_even(x):\n",
    "    ... # Even numbers have remainder 0 when divided by 2.\n",
    "    ... return x % 2 == 0\n",
    "    >>> keep_ints_fn(5)(is_even)\n",
    "    2\n",
    "    4\n",
    "    \"\"\"\n",
    "    \"YOUR CODE HERE\""
   ]
  },
  {
   "cell_type": "markdown",
   "id": "2eafb129",
   "metadata": {},
   "source": [
    "\n",
    "<br/><br/>\n",
    "<hr style=\"border: 5px solid #003262;\" />\n",
    "<hr style=\"border: 1px solid #fdb515;\" />\n",
    "\n",
    "# Discussion Questions: Environment Diagrams\n",
    "\n",
    "From [CS 88 Discussion 03](https://cs88-website.github.io/sp22/disc/disc03.pdf)."
   ]
  },
  {
   "cell_type": "markdown",
   "id": "2ca6f1a4",
   "metadata": {},
   "source": [
    "## Question 3\n",
    "\n",
    "Draw the environment diagram for evaluating the following code."
   ]
  },
  {
   "cell_type": "code",
   "execution_count": null,
   "id": "81cb73ec",
   "metadata": {},
   "outputs": [],
   "source": [
    "def f(x):\n",
    "    return y + x\n",
    "y = 10\n",
    "f(8)"
   ]
  },
  {
   "cell_type": "markdown",
   "id": "7a716c82",
   "metadata": {},
   "source": [
    "## Question 4\n",
    "\n",
    "Draw the environment diagram for evaluating the following code."
   ]
  },
  {
   "cell_type": "code",
   "execution_count": 12,
   "id": "3f1e9a42",
   "metadata": {},
   "outputs": [],
   "source": [
    "def dessef(a, b):\n",
    "    c = a + b\n",
    "    b = b + 1\n",
    "    \n",
    "b = 6\n",
    "dessef(b, 4)"
   ]
  },
  {
   "cell_type": "markdown",
   "id": "0337b62d",
   "metadata": {},
   "source": [
    "## Question 5\n",
    "\n",
    "Draw the environment diagram for evaluating the following code."
   ]
  },
  {
   "cell_type": "code",
   "execution_count": null,
   "id": "af918e60",
   "metadata": {},
   "outputs": [],
   "source": [
    "def foo(x, y):\n",
    "    foo = bar\n",
    "    return foo(bar(x, x), y)\n",
    "\n",
    "def bar(z, x):\n",
    "    return z + y\n",
    "\n",
    "y = 5\n",
    "foo(1, 2)"
   ]
  },
  {
   "cell_type": "markdown",
   "id": "eb73fed6",
   "metadata": {},
   "source": [
    "\n",
    "<br/><br/>\n",
    "<hr style=\"border: 5px solid #003262;\" />\n",
    "<hr style=\"border: 1px solid #fdb515;\" />\n",
    "\n",
    "# Lab Tutorial: Functions as Arguments\n",
    "\n",
    "From [CS 88 Lab 03](https://cs88-website.github.io/sp22/lab/lab03/)\n",
    "\n",
    "So far we have used several types of data - ints, floats, booleans, strings, and numpy.arrays. We perform operations on them by constructing expressions; we assign them to variables; we pass them to functions and return them as results. So what about functions themselves? So far we have called them, that is we applied them to arguments. Sometimes we compose them - just like in math; apply a function to the result of applying a function.\n",
    "\n",
    "In modern programming languages like Python, functions are first class citizens; we can pass them around and put them in data structures. Take a look at the following:"
   ]
  },
  {
   "cell_type": "code",
   "execution_count": 13,
   "id": "4dfc1122",
   "metadata": {},
   "outputs": [],
   "source": [
    "def square(x):\n",
    "    return x * x"
   ]
  },
  {
   "cell_type": "code",
   "execution_count": 14,
   "id": "c6973a45",
   "metadata": {},
   "outputs": [
    {
     "data": {
      "text/plain": [
       "81"
      ]
     },
     "execution_count": 14,
     "metadata": {},
     "output_type": "execute_result"
    }
   ],
   "source": [
    "square(square(3))"
   ]
  },
  {
   "cell_type": "code",
   "execution_count": null,
   "id": "feb51a03",
   "metadata": {},
   "outputs": [],
   "source": [
    "square"
   ]
  },
  {
   "cell_type": "code",
   "execution_count": null,
   "id": "bf3a7442",
   "metadata": {},
   "outputs": [],
   "source": [
    "x = square"
   ]
  },
  {
   "cell_type": "code",
   "execution_count": null,
   "id": "741db67d",
   "metadata": {},
   "outputs": [],
   "source": [
    "x(3)"
   ]
  },
  {
   "cell_type": "code",
   "execution_count": null,
   "id": "779568f8",
   "metadata": {},
   "outputs": [],
   "source": [
    "x(x(2))"
   ]
  },
  {
   "cell_type": "markdown",
   "id": "8dbcc791",
   "metadata": {},
   "source": [
    "## Higher Order Functions\n",
    "Thus far, in Python Tutor, we’ve visualized Python programs in the form of environment diagrams that display which variables are tied to which values within different frames. However, as we noted when introducing Python, values are not necessarily just primitive expressions or types like float, string, integer, and boolean.\n",
    "\n",
    "In a nutshell, a higher order function is any function that takes a function as a parameter or provides a function has a return value. We will be exploring many applications of higher order functions.\n",
    "\n",
    "Let's think about a more practical use of higher order functions. Pretend you’re a math teacher, and you want to teach your students how coefficients affect the shape of a parabola.\n",
    "\n",
    "Open Python Tutor in a new tab: [PythonTutor](http://pythontutor.com/visualize.html#mode=edit)\n",
    "\n",
    "Paste this code into the interpreter:"
   ]
  },
  {
   "cell_type": "code",
   "execution_count": null,
   "id": "a39c9379",
   "metadata": {},
   "outputs": [],
   "source": [
    "def define_parabola(a, b, c):\n",
    "    def parabola(x):\n",
    "        return a*(x**2) + b*x + c\n",
    "    return parabola\n",
    "\n",
    "parabola = define_parabola(-2, 3, -4)\n",
    "y1 = parabola(1)\n",
    "y2 = parabola(10)\n",
    "print(y1, y2)"
   ]
  },
  {
   "cell_type": "markdown",
   "id": "4a4b33eb",
   "metadata": {},
   "source": [
    "Now step through the code.\n",
    "* In the `define_parabola` function, the coefficient values of 'a', 'b', and 'c' are taken in, and in return, a parabolic function with those coefficient values is returned.\n",
    "* As you step through the second half of the code, notice how the value of parabola points at a function object! The `define_parabola` higher order nature comes from the fact that its return value is a function.\n",
    "* Another thing worth noting is where the pointer moves after the `parabola` function is called. Notice that the pointer goes to line 2, where `parabola` was originally defined. In a nutshell, this example is meant to show how a closure is returned from the `define_parabola` function.\n",
    "\n"
   ]
  },
  {
   "cell_type": "markdown",
   "id": "acd82c78",
   "metadata": {},
   "source": [
    "\n",
    "<br/><br/>\n",
    "<hr style=\"border: 5px solid #003262;\" />\n",
    "<hr style=\"border: 1px solid #fdb515;\" />\n",
    "\n",
    "# Lab Questions\n",
    "\n",
    "From [CS 88 Lab 03](https://cs88-website.github.io/sp22/lab/lab03/)"
   ]
  },
  {
   "cell_type": "markdown",
   "id": "8174c39e",
   "metadata": {},
   "source": [
    "---\n",
    "\n",
    "## Question 1: Applying Function Arguments"
   ]
  },
  {
   "cell_type": "code",
   "execution_count": null,
   "id": "025047b2",
   "metadata": {},
   "outputs": [],
   "source": [
    "def square(x):\n",
    "    return x * x\n",
    "\n",
    "def halve(x):\n",
    "    return x // 2\n",
    "\n",
    "def twice(f,x):\n",
    "    \"\"\"Apply f to the result of applying f to x\n",
    "    >>> twice(square,3)\n",
    "    81\n",
    "    >>> twice(square,4)\n",
    "    256\n",
    "    >>> twice(halve, 32)\n",
    "    8\n",
    "    >>> twice(halve, 80)\n",
    "    20\n",
    "    \"\"\"\n",
    "    \"*** YOUR CODE HERE ***\""
   ]
  },
  {
   "cell_type": "markdown",
   "id": "7f5c9067",
   "metadata": {},
   "source": [
    "---\n",
    "\n",
    "## Question 2"
   ]
  },
  {
   "cell_type": "code",
   "execution_count": null,
   "id": "9b1eaf19",
   "metadata": {},
   "outputs": [],
   "source": [
    "def increment(x):\n",
    "    return x + 1\n",
    "\n",
    "def decrement(x):\n",
    "    return x - 1\n",
    "\n",
    "def double(x):\n",
    "    return x * 2\n",
    "\n",
    "def apply_n(f, x, n):\n",
    "    \"\"\"Apply function f to x n times.\n",
    "\n",
    "    >>> apply_n(increment, 2, 10)\n",
    "    12\n",
    "    >>> apply_n(decrement, 5, 8)\n",
    "    -3\n",
    "    >>> apply_n(double, 7, 3)\n",
    "    56\n",
    "    \"\"\"\n",
    "    \"*** YOUR CODE HERE ***\""
   ]
  },
  {
   "cell_type": "markdown",
   "id": "d7f0b161",
   "metadata": {},
   "source": [
    "<br/><br/>\n",
    "\n",
    "---\n",
    "\n",
    "## Question 3: Flight of the Bumblebee\n",
    "\n",
    "Write a function that takes in a number `n` and returns a function that takes in a number `m` which will print all numbers from `0` to `m - 1` (including `0` but excluding `m`) but print `Buzz!` instead for all the numbers that are divisible by `n`."
   ]
  },
  {
   "cell_type": "code",
   "execution_count": null,
   "id": "db0f4b93",
   "metadata": {},
   "outputs": [],
   "source": [
    "def make_buzzer(n):\n",
    "    \"\"\" Returns a function that prints numbers in a specified\n",
    "    range except those divisible by n.\n",
    "\n",
    "    >>> i_hate_fives = make_buzzer(5)\n",
    "    >>> i_hate_fives(10)\n",
    "    Buzz!\n",
    "    1\n",
    "    2\n",
    "    3\n",
    "    4\n",
    "    Buzz!\n",
    "    6\n",
    "    7\n",
    "    8\n",
    "    9\n",
    "    \"\"\"\n",
    "    \"*** YOUR CODE HERE ***\""
   ]
  },
  {
   "cell_type": "markdown",
   "id": "0469d0f5",
   "metadata": {},
   "source": [
    "<br/><br/>\n",
    "\n",
    "---\n",
    "\n",
    "## Question 3: Piecewise\n",
    "\n",
    "Implement `piecewise`, which takes two one-argument functions, `f` and `g`, along with a number `b`. It returns a new function that takes a number `x` and returns either `f(x)` if `x` is less than `b`, or `g(x)` if `x` is greater than or equal to `b`."
   ]
  },
  {
   "cell_type": "code",
   "execution_count": null,
   "id": "446f3586",
   "metadata": {},
   "outputs": [],
   "source": [
    "\n",
    "def piecewise(f, g, b):\n",
    "    \"\"\"Returns the piecewise function h where:\n",
    "\n",
    "    h(x) = f(x) if x < b,\n",
    "           g(x) otherwise\n",
    "\n",
    "    >>> def negate(x):\n",
    "    ...     return -x\n",
    "    >>> def identity(x):\n",
    "    ...     return x\n",
    "    >>> abs_value = piecewise(negate, identity, 0)\n",
    "    >>> abs_value(6)\n",
    "    6\n",
    "    >>> abs_value(-1)\n",
    "    1\n",
    "    \"\"\"\n",
    "    \"*** YOUR CODE HERE ***\"\n",
    "    "
   ]
  },
  {
   "cell_type": "markdown",
   "id": "6955e84a",
   "metadata": {},
   "source": [
    "<br/><br/>\n",
    "\n",
    "---\n",
    "\n",
    "## Question 4: Funception\n",
    "\n",
    "Write a function `funception` that takes in another function `func_a` and a number `start` and returns a function `func_b` that will have one parameter to take in the stop value. `func_b` should take the following into consideration the following in order:\n",
    "\n",
    "1. Takes in the `stop` value.\n",
    "2. If the value of `start` is less than 0, it should exit the function.\n",
    "3. If the value of `start` is greater than stop, apply `func_a` on `start` and return the result.\n",
    "4. If not, apply `func_a` on all the numbers from `start` (inclusive) up to `stop` (exclusive) and return the product.\n"
   ]
  },
  {
   "cell_type": "code",
   "execution_count": null,
   "id": "9023722f",
   "metadata": {},
   "outputs": [],
   "source": [
    "def funception(func_a, start):\n",
    "    \"\"\" Takes in a function (function A) and a start value.\n",
    "    Returns a function (function B) that will find the product of \n",
    "    function A applied to the range of numbers from \n",
    "    start (inclusive) to stop (exclusive)\n",
    "\n",
    "    >>> def func_a(num):\n",
    "    ...     return num + 1\n",
    "    >>> func_b1 = funception(func_a, 3)\n",
    "    >>> func_b1(2)\n",
    "    4\n",
    "    >>> func_b2 = funception(func_a, -2)\n",
    "    >>> func_b2(-3)\n",
    "    >>> func_b3 = funception(func_a, -1)\n",
    "    >>> func_b3(4)\n",
    "    >>> func_b4 = funception(func_a, 0)\n",
    "    >>> func_b4(3)\n",
    "    6\n",
    "    >>> func_b5 = funception(func_a, 1)\n",
    "    >>> func_b5(4)\n",
    "    24\n",
    "    \"\"\"\n",
    "    \"*** YOUR CODE HERE ***\"\n",
    "    "
   ]
  },
  {
   "cell_type": "markdown",
   "id": "ab56ff44",
   "metadata": {},
   "source": [
    "\n",
    "<br/><br/>\n",
    "<hr style=\"border: 5px solid #003262;\" />\n",
    "<hr style=\"border: 1px solid #fdb515;\" />\n",
    "\n",
    "# Bonus/More Practice\n",
    "\n",
    "From [CS 88 Lab 01](https://cs88-website.github.io/sp22/lab/lab01/) and [CS61A Lab 01](https://cs61a.org/lab/lab01/#error-messages)."
   ]
  },
  {
   "cell_type": "markdown",
   "id": "c1a7c7fa",
   "metadata": {},
   "source": [
    "## Done!\n",
    "\n",
    "That's it! There's nowhere for you to submit this, as labs are not assignments. However, please ask any questions you have with this notebook in lab or on Slack."
   ]
  },
  {
   "cell_type": "code",
   "execution_count": null,
   "id": "c6a15b01",
   "metadata": {},
   "outputs": [],
   "source": []
  },
  {
   "cell_type": "code",
   "execution_count": null,
   "id": "6a4ae340",
   "metadata": {},
   "outputs": [],
   "source": []
  },
  {
   "cell_type": "code",
   "execution_count": null,
   "id": "224a2604",
   "metadata": {},
   "outputs": [],
   "source": []
  },
  {
   "cell_type": "code",
   "execution_count": null,
   "id": "18e39c1d",
   "metadata": {},
   "outputs": [],
   "source": []
  },
  {
   "cell_type": "code",
   "execution_count": null,
   "id": "58124f13",
   "metadata": {},
   "outputs": [],
   "source": []
  },
  {
   "cell_type": "code",
   "execution_count": null,
   "id": "c61b6f71",
   "metadata": {},
   "outputs": [],
   "source": []
  },
  {
   "cell_type": "raw",
   "id": "3f4832fa",
   "metadata": {},
   "source": [
    "# BEGIN QUESTION\n",
    "name: q3\n",
    "points: 2"
   ]
  },
  {
   "cell_type": "markdown",
   "id": "0b1ca4ab",
   "metadata": {},
   "source": [
    "<br/><br/>\n",
    "\n",
    "---\n",
    "\n",
    "## Question 3: Fortune Teller\n",
    "\n",
    "Why pay a fortune teller when you can just program your fortune yourself?\n"
   ]
  },
  {
   "cell_type": "raw",
   "id": "1e5d1df7",
   "metadata": {},
   "source": [
    "# BEGIN SOLUTION"
   ]
  },
  {
   "cell_type": "code",
   "execution_count": null,
   "id": "06c860d0",
   "metadata": {},
   "outputs": [],
   "source": []
  },
  {
   "cell_type": "raw",
   "id": "629edaf7",
   "metadata": {},
   "source": [
    "# END SOLUTION"
   ]
  },
  {
   "cell_type": "raw",
   "id": "61b85e51",
   "metadata": {},
   "source": [
    "# BEGIN TESTS"
   ]
  },
  {
   "cell_type": "code",
   "execution_count": null,
   "id": "dc881a41",
   "metadata": {},
   "outputs": [],
   "source": []
  },
  {
   "cell_type": "raw",
   "id": "ade27837",
   "metadata": {},
   "source": [
    "# END TESTS"
   ]
  },
  {
   "cell_type": "raw",
   "id": "6a775e53",
   "metadata": {},
   "source": [
    "# END QUESTION"
   ]
  }
 ],
 "metadata": {
  "kernelspec": {
   "display_name": "Python 3 (ipykernel)",
   "language": "python",
   "name": "python3"
  },
  "language_info": {
   "codemirror_mode": {
    "name": "ipython",
    "version": 3
   },
   "file_extension": ".py",
   "mimetype": "text/x-python",
   "name": "python",
   "nbconvert_exporter": "python",
   "pygments_lexer": "ipython3",
   "version": "3.9.10"
  }
 },
 "nbformat": 4,
 "nbformat_minor": 5
}
